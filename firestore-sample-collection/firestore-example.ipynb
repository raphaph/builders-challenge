{
 "cells": [
  {
   "cell_type": "code",
   "execution_count": 1,
   "metadata": {},
   "outputs": [
    {
     "data": {
      "text/plain": [
       "True"
      ]
     },
     "execution_count": 1,
     "metadata": {},
     "output_type": "execute_result"
    }
   ],
   "source": [
    "import pandas as pd\n",
    "from dotenv import load_dotenv\n",
    "import os\n",
    "\n",
    "# pip install google-cloud-firestore\n",
    "from google.cloud import firestore\n",
    "\n",
    "load_dotenv()"
   ]
  },
  {
   "cell_type": "code",
   "execution_count": 2,
   "metadata": {},
   "outputs": [],
   "source": [
    "# Configuração do cliente \n",
    "os.environ[\"GOOGLE_APPLICATION_CREDENTIALS\"] = \"C:/Users/rapha/OneDrive/.Data/builders-challenge/firestore-key.json\""
   ]
  },
  {
   "cell_type": "code",
   "execution_count": 5,
   "metadata": {},
   "outputs": [],
   "source": [
    "# Inicializa o client\n",
    "db = firestore.Client()"
   ]
  },
  {
   "cell_type": "code",
   "execution_count": 6,
   "metadata": {},
   "outputs": [
    {
     "name": "stdout",
     "output_type": "stream",
     "text": [
      "1Ejk9bZnHiI1x5fodv6J => {'document': 1}\n",
      "2a03qSi7tDt4e8TCAlU7 => {'date': '2024-08-29', 'document': 4, 'name': 'third'}\n",
      "DcXVD6tHIdTws7NkRlKP => {'document': 3, 'name': 'learning'}\n",
      "sOhW3Yew0JFzJmZ7g9Iv => {'document': 4, 'name': 'testing'}\n",
      "wUNjqdGcTFNQ5fmGEusg => {'document': 2}\n"
     ]
    }
   ],
   "source": [
    "# CONSULTAR DOCUMENTOS\n",
    "\n",
    "def getDocuments():\n",
    "    db = firestore.Client()\n",
    "    docs = db.collection(\"collection\").stream()\n",
    "\n",
    "    for doc in docs:\n",
    "        print(f\"{doc.id} => {doc.to_dict()}\")\n",
    "        \n",
    "getDocuments()"
   ]
  },
  {
   "cell_type": "code",
   "execution_count": 18,
   "metadata": {},
   "outputs": [
    {
     "name": "stdout",
     "output_type": "stream",
     "text": [
      "1D5uAnrRcYNmPmKhdOvD => {'date': '2024-08-29', 'document': 4, 'name': 'third'}\n",
      "1Ejk9bZnHiI1x5fodv6J => {'document': 1}\n",
      "2a03qSi7tDt4e8TCAlU7 => {'date': '2024-08-29', 'document': 4, 'name': 'third'}\n",
      "46l0rCvGG3uj2C59faJv => {'date': '2024-08-29', 'document': 4, 'name': 'third'}\n",
      "7M0OrcDMl4IhOBN8LRtf => {'date': '2024-08-29', 'document': 4, 'name': 'third'}\n",
      "B8FeLBpPea6B6oslaoOf => {'date': '2024-08-29', 'document': 4, 'name': 'third'}\n",
      "DcXVD6tHIdTws7NkRlKP => {'document': 3, 'name': 'learning'}\n",
      "WEyG46MCfTxRMCamlDVI => {'date': '2024-08-29', 'document': 4, 'name': 'third'}\n",
      "j0Eb2fp1zYwmZcMbPqhY => {'date': '2024-08-29', 'document': 4, 'name': 'third'}\n",
      "sFd9HpY9ARZibn5QtSBV => {'date': '2024-08-29', 'document': 4, 'name': 'third'}\n",
      "sOhW3Yew0JFzJmZ7g9Iv => {'document': 4, 'name': 'testing'}\n",
      "wUNjqdGcTFNQ5fmGEusg => {'document': 2}\n"
     ]
    }
   ],
   "source": [
    "# ADICIONAR UM DOC\n",
    "\n",
    "collection_ref = db.collection('collection')\n",
    "doc_ref = collection_ref.add({\n",
    "    'document': 4,\n",
    "    'name': 'third',\n",
    "    'date': '2024-08-29'\n",
    "})\n",
    "\n",
    "getDocuments()"
   ]
  },
  {
   "cell_type": "code",
   "execution_count": 10,
   "metadata": {},
   "outputs": [
    {
     "name": "stdout",
     "output_type": "stream",
     "text": [
      "sOhW3Yew0JFzJmZ7g9Iv => {'document': 4, 'name': 'testing'}\n"
     ]
    }
   ],
   "source": [
    "# CONSULTAR COM FILTRO\n",
    "\n",
    "# Referencia a coleção \"collection\"\n",
    "collection_ref = db.collection('collection')\n",
    "\n",
    "# == (igual)\n",
    "# > (maior que)\n",
    "# >= (maior ou igual a)\n",
    "# < (menor que)\n",
    "# <= (menor ou igual a)\n",
    "# in (contido em uma lista)\n",
    "# Filtra documentos onde 'campo1' é igual a 'valor1'\n",
    "query = collection_ref.where('name', '==', 'testing')\n",
    "\n",
    "docs = query.stream()\n",
    "\n",
    "# Exibe os documentos filtrados\n",
    "for doc in docs:\n",
    "    print(f'{doc.id} => {doc.to_dict()}')"
   ]
  },
  {
   "cell_type": "code",
   "execution_count": 21,
   "metadata": {},
   "outputs": [
    {
     "data": {
      "text/plain": [
       "DatetimeWithNanoseconds(2024, 8, 30, 2, 14, 27, 230522, tzinfo=datetime.timezone.utc)"
      ]
     },
     "execution_count": 21,
     "metadata": {},
     "output_type": "execute_result"
    }
   ],
   "source": [
    "# DELETAR DOCUMENTO\n",
    "\n",
    "# Referencia o documento que você deseja deletar\n",
    "doc_ref = db.collection('collection').document('edYhFNwwnsZFFgVZOsfB')\n",
    "\n",
    "# Deleta o documento\n",
    "doc_ref.delete()"
   ]
  },
  {
   "cell_type": "code",
   "execution_count": 22,
   "metadata": {},
   "outputs": [
    {
     "name": "stdout",
     "output_type": "stream",
     "text": [
      "Documento 1D5uAnrRcYNmPmKhdOvD deletado.\n",
      "Documento 2a03qSi7tDt4e8TCAlU7 deletado.\n",
      "Documento 46l0rCvGG3uj2C59faJv deletado.\n",
      "Documento 7M0OrcDMl4IhOBN8LRtf deletado.\n",
      "Documento B8FeLBpPea6B6oslaoOf deletado.\n",
      "Documento WEyG46MCfTxRMCamlDVI deletado.\n",
      "Documento j0Eb2fp1zYwmZcMbPqhY deletado.\n",
      "Documento sFd9HpY9ARZibn5QtSBV deletado.\n"
     ]
    }
   ],
   "source": [
    "# Filtra documentos onde 'campo1' é igual a 'valor1'\n",
    "query = collection_ref.where('name', '==', 'third')\n",
    "\n",
    "# Recupera os documentos filtrados\n",
    "docs = query.stream()\n",
    "\n",
    "# Deleta os documentos filtrados\n",
    "for doc in docs:\n",
    "    doc.reference.delete()\n",
    "    print(f\"Documento {doc.id} deletado.\")"
   ]
  },
  {
   "cell_type": "code",
   "execution_count": 11,
   "metadata": {},
   "outputs": [
    {
     "data": {
      "text/html": [
       "<div>\n",
       "<style scoped>\n",
       "    .dataframe tbody tr th:only-of-type {\n",
       "        vertical-align: middle;\n",
       "    }\n",
       "\n",
       "    .dataframe tbody tr th {\n",
       "        vertical-align: top;\n",
       "    }\n",
       "\n",
       "    .dataframe thead th {\n",
       "        text-align: right;\n",
       "    }\n",
       "</style>\n",
       "<table border=\"1\" class=\"dataframe\">\n",
       "  <thead>\n",
       "    <tr style=\"text-align: right;\">\n",
       "      <th></th>\n",
       "      <th>document</th>\n",
       "      <th>date</th>\n",
       "      <th>name</th>\n",
       "    </tr>\n",
       "  </thead>\n",
       "  <tbody>\n",
       "    <tr>\n",
       "      <th>0</th>\n",
       "      <td>1</td>\n",
       "      <td>NaN</td>\n",
       "      <td>NaN</td>\n",
       "    </tr>\n",
       "    <tr>\n",
       "      <th>1</th>\n",
       "      <td>4</td>\n",
       "      <td>2024-08-29</td>\n",
       "      <td>third</td>\n",
       "    </tr>\n",
       "    <tr>\n",
       "      <th>2</th>\n",
       "      <td>3</td>\n",
       "      <td>NaN</td>\n",
       "      <td>learning</td>\n",
       "    </tr>\n",
       "    <tr>\n",
       "      <th>3</th>\n",
       "      <td>4</td>\n",
       "      <td>NaN</td>\n",
       "      <td>testing</td>\n",
       "    </tr>\n",
       "    <tr>\n",
       "      <th>4</th>\n",
       "      <td>2</td>\n",
       "      <td>NaN</td>\n",
       "      <td>NaN</td>\n",
       "    </tr>\n",
       "  </tbody>\n",
       "</table>\n",
       "</div>"
      ],
      "text/plain": [
       "   document        date      name\n",
       "0         1         NaN       NaN\n",
       "1         4  2024-08-29     third\n",
       "2         3         NaN  learning\n",
       "3         4         NaN   testing\n",
       "4         2         NaN       NaN"
      ]
     },
     "metadata": {},
     "output_type": "display_data"
    }
   ],
   "source": [
    "# COLLECTION para DATAFRAME\n",
    "\n",
    "# obtem a collection do firestore\n",
    "docs = collection_ref.stream()\n",
    "\n",
    "# compila em um dicionário\n",
    "data = [doc.to_dict() for doc in docs]\n",
    "\n",
    "# transforma em um dataframe\n",
    "df = pd.DataFrame(data)\n",
    "display(df)"
   ]
  },
  {
   "cell_type": "code",
   "execution_count": null,
   "metadata": {},
   "outputs": [],
   "source": []
  }
 ],
 "metadata": {
  "kernelspec": {
   "display_name": ".venv",
   "language": "python",
   "name": "python3"
  },
  "language_info": {
   "codemirror_mode": {
    "name": "ipython",
    "version": 3
   },
   "file_extension": ".py",
   "mimetype": "text/x-python",
   "name": "python",
   "nbconvert_exporter": "python",
   "pygments_lexer": "ipython3",
   "version": "3.11.9"
  }
 },
 "nbformat": 4,
 "nbformat_minor": 2
}
